{
 "cells": [
  {
   "cell_type": "code",
   "execution_count": 2,
   "metadata": {},
   "outputs": [],
   "source": [
    "import pandas as pd\n",
    "import numpy as np \n",
    "import matplotlib.pyplot as plt\n",
    "import tkinter as tk"
   ]
  },
  {
   "cell_type": "code",
   "execution_count": 3,
   "metadata": {},
   "outputs": [],
   "source": [
    "#reads and prints the setting out points for tunnel geometry \n",
    "IMP = pd.read_csv('geom.csv',header=0,nrows=14)"
   ]
  },
  {
   "cell_type": "code",
   "execution_count": 4,
   "metadata": {},
   "outputs": [],
   "source": [
    "#convert imported data to dataframe\n",
    "dfSOP = pd.DataFrame(IMP)"
   ]
  },
  {
   "cell_type": "code",
   "execution_count": 5,
   "metadata": {},
   "outputs": [
    {
     "ename": "NameError",
     "evalue": "name 'EDif' is not defined",
     "output_type": "error",
     "traceback": [
      "\u001b[1;31m---------------------------------------------------------------------------\u001b[0m",
      "\u001b[1;31mNameError\u001b[0m                                 Traceback (most recent call last)",
      "\u001b[1;32m~\\AppData\\Local\\Temp/ipykernel_15612/3879897780.py\u001b[0m in \u001b[0;36m<module>\u001b[1;34m\u001b[0m\n\u001b[0;32m      4\u001b[0m \u001b[0mdfSOP\u001b[0m\u001b[1;33m[\u001b[0m\u001b[1;34m'ELVDif'\u001b[0m\u001b[1;33m]\u001b[0m \u001b[1;33m=\u001b[0m \u001b[0mdfSOP\u001b[0m\u001b[1;33m.\u001b[0m\u001b[0mElev_B\u001b[0m \u001b[1;33m-\u001b[0m \u001b[0mdfSOP\u001b[0m\u001b[1;33m.\u001b[0m\u001b[0mElev_A\u001b[0m\u001b[1;33m\u001b[0m\u001b[1;33m\u001b[0m\u001b[0m\n\u001b[0;32m      5\u001b[0m \u001b[0mdfSOP\u001b[0m\u001b[1;33m[\u001b[0m\u001b[1;34m'Radius'\u001b[0m\u001b[1;33m]\u001b[0m \u001b[1;33m=\u001b[0m \u001b[0mdfSOP\u001b[0m\u001b[1;33m.\u001b[0m\u001b[0mRad\u001b[0m\u001b[1;33m\u001b[0m\u001b[1;33m\u001b[0m\u001b[0m\n\u001b[1;32m----> 6\u001b[1;33m \u001b[0mdfSOP\u001b[0m\u001b[1;33m[\u001b[0m\u001b[1;34m'HorDif'\u001b[0m\u001b[1;33m]\u001b[0m \u001b[1;33m=\u001b[0m \u001b[0mnp\u001b[0m\u001b[1;33m.\u001b[0m\u001b[0msqrt\u001b[0m\u001b[1;33m(\u001b[0m\u001b[0mEDif\u001b[0m \u001b[1;33m**\u001b[0m \u001b[1;36m2\u001b[0m \u001b[1;33m+\u001b[0m \u001b[0mNDif\u001b[0m \u001b[1;33m**\u001b[0m \u001b[1;36m2\u001b[0m\u001b[1;33m)\u001b[0m\u001b[1;33m\u001b[0m\u001b[1;33m\u001b[0m\u001b[0m\n\u001b[0m\u001b[0;32m      7\u001b[0m \u001b[0mdfSOP\u001b[0m\u001b[1;33m[\u001b[0m\u001b[1;34m'CirDis'\u001b[0m\u001b[1;33m]\u001b[0m \u001b[1;33m=\u001b[0m \u001b[1;33m(\u001b[0m\u001b[1;36m2\u001b[0m \u001b[1;33m*\u001b[0m \u001b[0mnp\u001b[0m\u001b[1;33m.\u001b[0m\u001b[0mpi\u001b[0m\u001b[1;33m)\u001b[0m \u001b[1;33m*\u001b[0m \u001b[0mRadius\u001b[0m \u001b[1;33m*\u001b[0m \u001b[0mnp\u001b[0m\u001b[1;33m.\u001b[0m\u001b[0mdegrees\u001b[0m\u001b[1;33m(\u001b[0m \u001b[0mnp\u001b[0m\u001b[1;33m.\u001b[0m\u001b[0marccos\u001b[0m\u001b[1;33m(\u001b[0m \u001b[1;33m(\u001b[0m\u001b[1;33m(\u001b[0m \u001b[0mRadius\u001b[0m \u001b[1;33m**\u001b[0m \u001b[1;36m2\u001b[0m \u001b[1;33m+\u001b[0m \u001b[0mRadius\u001b[0m \u001b[1;33m**\u001b[0m \u001b[1;36m2\u001b[0m \u001b[1;33m)\u001b[0m \u001b[1;33m-\u001b[0m  \u001b[0mHorDif\u001b[0m \u001b[1;33m**\u001b[0m \u001b[1;36m2\u001b[0m \u001b[1;33m)\u001b[0m \u001b[1;33m/\u001b[0m \u001b[1;33m(\u001b[0m \u001b[1;36m2\u001b[0m \u001b[1;33m*\u001b[0m \u001b[0mRadius\u001b[0m \u001b[1;33m**\u001b[0m \u001b[1;36m2\u001b[0m \u001b[1;33m)\u001b[0m \u001b[1;33m)\u001b[0m \u001b[1;33m/\u001b[0m\u001b[1;36m360\u001b[0m\u001b[1;33m)\u001b[0m\u001b[1;33m\u001b[0m\u001b[1;33m\u001b[0m\u001b[0m\n\u001b[0;32m      8\u001b[0m \u001b[0mdfSOP\u001b[0m\u001b[1;33m[\u001b[0m\u001b[1;34m'Bearing'\u001b[0m\u001b[1;33m]\u001b[0m \u001b[1;33m=\u001b[0m \u001b[1;33m(\u001b[0m\u001b[0mnp\u001b[0m\u001b[1;33m.\u001b[0m\u001b[0mdegrees\u001b[0m\u001b[1;33m(\u001b[0m\u001b[0mnp\u001b[0m\u001b[1;33m.\u001b[0m\u001b[0marctan2\u001b[0m\u001b[1;33m(\u001b[0m\u001b[0mEDif\u001b[0m\u001b[1;33m,\u001b[0m\u001b[0mNDif\u001b[0m\u001b[1;33m)\u001b[0m\u001b[1;33m)\u001b[0m\u001b[1;33m+\u001b[0m\u001b[1;36m360\u001b[0m\u001b[1;33m)\u001b[0m \u001b[1;33m%\u001b[0m \u001b[1;36m360\u001b[0m\u001b[1;33m\u001b[0m\u001b[1;33m\u001b[0m\u001b[0m\n",
      "\u001b[1;31mNameError\u001b[0m: name 'EDif' is not defined"
     ]
    }
   ],
   "source": [
    "#calculated functions\n",
    "dfSOP['EDif'] = dfSOP.East_B - dfSOP.East_A\n",
    "dfSOP['NDif'] = dfSOP.North_B - dfSOP.North_A\n",
    "dfSOP['ELVDif'] = dfSOP.Elev_B - dfSOP.Elev_A\n",
    "dfSOP['Radius'] = dfSOP.Rad\n",
    "dfSOP['HorDif'] = np.sqrt(EDif ** 2 + NDif ** 2)\n",
    "dfSOP['CirDis'] = (2 * np.pi) * Radius * np.degrees( np.arccos( (( Radius ** 2 + Radius ** 2 ) -  HorDif ** 2 ) / ( 2 * Radius ** 2 ) ) /360)\n",
    "dfSOP['Bearing'] = (np.degrees(np.arctan2(EDif,NDif))+360) % 360\n",
    "dfSOP = dfSOP.replace(np.nan, '', regex=True)"
   ]
  },
  {
   "cell_type": "code",
   "execution_count": null,
   "metadata": {},
   "outputs": [],
   "source": [
    "dfSOP['dist'] = np.where(dfSOP['CirDis'] == '' , dfSOP['HorDif'] , dfSOP['CirDis'] )\n",
    "dfSOP\n",
    "dfSOP['dist'] = np.where(dfSOP['CirDis'] == '' , dfSOP['HorDif'] , dfSOP['CirDis'] )"
   ]
  },
  {
   "cell_type": "code",
   "execution_count": null,
   "metadata": {},
   "outputs": [],
   "source": []
  },
  {
   "cell_type": "code",
   "execution_count": null,
   "metadata": {},
   "outputs": [],
   "source": [
    "chainage_B = dfSOP['dist'].cumsum()\n",
    "dfSOP.insert(4,\"chainage_B\",chainage_B,True)\n",
    "chainage_A = chainage_B - dist\n",
    "dfSOP.insert(4,\"chainage_A\",chainage_A,True)"
   ]
  },
  {
   "cell_type": "code",
   "execution_count": null,
   "metadata": {},
   "outputs": [],
   "source": [
    "col_ch = dfSOP[\"chainage_B\"]\n",
    "max_ch = col_ch.max()\n",
    "max_rdu = 200\n",
    "\n",
    "#round(max_ch)\n",
    "\n",
    "#CHANGE TO max_ch to allow input for definition (1m, 0.1m etc)"
   ]
  },
  {
   "cell_type": "code",
   "execution_count": null,
   "metadata": {},
   "outputs": [],
   "source": [
    "dfCALC = pd.DataFrame(np.random.randint(0,10, size=(max_rdu,0)))"
   ]
  },
  {
   "cell_type": "code",
   "execution_count": null,
   "metadata": {},
   "outputs": [],
   "source": [
    "Calc_chain = range(max_rdu)\n",
    "dfCALC.insert(0,'row',Calc_chain,True)\n",
    "dfCALC.insert(0,'max',(max_rdu-1),True)\n",
    "dfCALC['ch_max'] = (max_ch)"
   ]
  },
  {
   "cell_type": "code",
   "execution_count": null,
   "metadata": {},
   "outputs": [],
   "source": [
    "dfCALC['chainage'] = dfCALC['ch_max'] * ( dfCALC['row'] / dfCALC['max'] )"
   ]
  },
  {
   "cell_type": "code",
   "execution_count": null,
   "metadata": {},
   "outputs": [],
   "source": [
    "#index the range of chainages between setting out points \n",
    "dfSOP.index = pd.IntervalIndex.from_arrays(dfSOP['chainage_A'],dfSOP['chainage_B'],closed='both')"
   ]
  },
  {
   "cell_type": "code",
   "execution_count": null,
   "metadata": {},
   "outputs": [],
   "source": [
    "# create a new column populated with values for chainage in dfCALC\n",
    "dfCALC['SOP'] = dfCALC['chainage'].apply(lambda x : dfSOP.iloc[dfSOP.index.get_loc(x)]['SOP'])\n",
    "dfCALC['East_A'] = dfCALC['chainage'].apply(lambda x : dfSOP.iloc[dfSOP.index.get_loc(x)]['East_A'])\n",
    "dfCALC['North_A'] = dfCALC['chainage'].apply(lambda x : dfSOP.iloc[dfSOP.index.get_loc(x)]['North_A'])\n",
    "dfCALC['Elev_A'] = dfCALC['chainage'].apply(lambda x : dfSOP.iloc[dfSOP.index.get_loc(x)]['Elev_A'])\n",
    "dfCALC['chainage_A'] = dfCALC['chainage'].apply(lambda x : dfSOP.iloc[dfSOP.index.get_loc(x)]['chainage_A'])\n",
    "dfCALC['East_B'] = dfCALC['chainage'].apply(lambda x : dfSOP.iloc[dfSOP.index.get_loc(x)]['East_B'])\n",
    "dfCALC['North_B'] = dfCALC['chainage'].apply(lambda x : dfSOP.iloc[dfSOP.index.get_loc(x)]['North_B'])\n",
    "dfCALC['Elev_B'] = dfCALC['chainage'].apply(lambda x : dfSOP.iloc[dfSOP.index.get_loc(x)]['Elev_B'])\n",
    "dfCALC['chainage_B'] = dfCALC['chainage'].apply(lambda x : dfSOP.iloc[dfSOP.index.get_loc(x)]['chainage_B'])\n",
    "dfCALC['Dia'] = dfCALC['chainage'].apply(lambda x : dfSOP.iloc[dfSOP.index.get_loc(x)]['Dia'])\n",
    "dfCALC['GL'] = dfCALC['chainage'].apply(lambda x : dfSOP.iloc[dfSOP.index.get_loc(x)]['GL'])\n",
    "dfCALC['Rad'] = dfCALC['chainage'].apply(lambda x : dfSOP.iloc[dfSOP.index.get_loc(x)]['Rad'])\n",
    "dfCALC['East_CP'] = dfCALC['chainage'].apply(lambda x : dfSOP.iloc[dfSOP.index.get_loc(x)]['East_CP'])\n",
    "dfCALC['North_CP'] = dfCALC['chainage'].apply(lambda x : dfSOP.iloc[dfSOP.index.get_loc(x)]['North_CP'])\n",
    "dfCALC['Side'] = dfCALC['chainage'].apply(lambda x : dfSOP.iloc[dfSOP.index.get_loc(x)]['Side'])\n",
    "dfCALC['dist'] = dfCALC['chainage'].apply(lambda x : dfSOP.iloc[dfSOP.index.get_loc(x)]['dist'])\n",
    "dfCALC['Bearing'] = dfCALC['chainage'].apply(lambda x : dfSOP.iloc[dfSOP.index.get_loc(x)]['Bearing'])\n",
    "dfCALC['CirDis'] = dfCALC['chainage'].apply(lambda x : dfSOP.iloc[dfSOP.index.get_loc(x)]['CirDis'])\n",
    "dfCALC['HorDif'] = dfCALC['chainage'].apply(lambda x : dfSOP.iloc[dfSOP.index.get_loc(x)]['HorDif'])\n",
    "dfCALC['ELVDif'] = dfCALC['chainage'].apply(lambda x : dfSOP.iloc[dfSOP.index.get_loc(x)]['ELVDif'])\n",
    "dfCALC['NDif'] = dfCALC['chainage'].apply(lambda x : dfSOP.iloc[dfSOP.index.get_loc(x)]['NDif'])\n",
    "dfCALC['EDif'] = dfCALC['chainage'].apply(lambda x : dfSOP.iloc[dfSOP.index.get_loc(x)]['EDif'])\n",
    "dfCALC['K'] = dfCALC['chainage'].apply(lambda x : dfSOP.iloc[dfSOP.index.get_loc(x)]['K'])\n",
    "dfCALC['VL'] = dfCALC['chainage'].apply(lambda x : dfSOP.iloc[dfSOP.index.get_loc(x)]['VL'])"
   ]
  },
  {
   "cell_type": "code",
   "execution_count": null,
   "metadata": {},
   "outputs": [],
   "source": [
    "#distance of ref chainage from previous SOP\n",
    "dfCALC['ch_DistSOP'] = dfCALC['chainage']-dfCALC['chainage_A']"
   ]
  },
  {
   "cell_type": "code",
   "execution_count": null,
   "metadata": {},
   "outputs": [],
   "source": [
    "#East dif from SOP\n",
    "dfCALC['ch_EastDif'] = np.where(dfCALC['Bearing']<90.001,(np.sin(np.radians(dfCALC['Bearing']))*dfCALC['ch_DistSOP']),\n",
    "                       np.where(dfCALC['Bearing']<180.001,(np.cos(np.radians(dfCALC['Bearing']-90))*dfCALC['ch_DistSOP']),\n",
    "                       np.where(dfCALC['Bearing']<270.001,(np.sin(np.radians(dfCALC['Bearing']-180))*dfCALC['ch_DistSOP'])*-1,\n",
    "                       np.where(dfCALC['Bearing']<361,(np.cos(np.radians(dfCALC['Bearing']-270))*dfCALC['ch_DistSOP'])*-1,\"\")))) "
   ]
  },
  {
   "cell_type": "code",
   "execution_count": null,
   "metadata": {},
   "outputs": [],
   "source": [
    "#North dif from SOP\n",
    "dfCALC['ch_NorthDif'] = np.where(dfCALC['Bearing']<90.001,(np.cos(np.radians(dfCALC['Bearing']))*dfCALC['ch_DistSOP']),\n",
    "                        np.where(dfCALC['Bearing']<180.001,(np.sin(np.radians(dfCALC['Bearing']-90))*dfCALC['ch_DistSOP'])*-1,\n",
    "                        np.where(dfCALC['Bearing']<270.001,(np.cos(np.radians(dfCALC['Bearing']-180))*dfCALC['ch_DistSOP'])*-1,\n",
    "                        np.where(dfCALC['Bearing']<361,(np.sin(np.radians(dfCALC['Bearing']-270))*dfCALC['ch_DistSOP']),\"\")))) "
   ]
  },
  {
   "cell_type": "code",
   "execution_count": null,
   "metadata": {},
   "outputs": [],
   "source": [
    "#angle between SOP points on a curve \n",
    "Rad = pd.to_numeric(dfCALC.Rad)\n",
    "Dis1 = pd.to_numeric(dfCALC.HorDif)\n",
    "Dis2 = pd.to_numeric(dfCALC.ch_DistSOP)\n",
    "\n",
    "dfCALC['AngDifSOP'] = np.where(Rad==\"\",0,\n",
    "                      np.degrees(np.arccos( ( (Rad**2)+(Rad**2)-(Dis2**2) ) / (2.0*Rad**2) ) ) )"
   ]
  },
  {
   "cell_type": "code",
   "execution_count": null,
   "metadata": {},
   "outputs": [],
   "source": [
    "dfCALC['Angle1'] = np.degrees(np.tan(Dis1/Rad))"
   ]
  },
  {
   "cell_type": "code",
   "execution_count": null,
   "metadata": {},
   "outputs": [],
   "source": [
    "dfCALC['Angle2'] = np.where(dfCALC['Side'] == \"R\",dfCALC.Bearing - 90 - (dfCALC.Angle1/2),\n",
    "                   np.where(dfCALC['Side'] == \"L\",dfCALC.Bearing - 90 - (dfCALC.Angle1/2),\"\"))\n",
    "\n",
    "Angle2 = pd.to_numeric(dfCALC.Angle2)"
   ]
  },
  {
   "cell_type": "code",
   "execution_count": null,
   "metadata": {},
   "outputs": [],
   "source": [
    "dfCALC['Angle3'] = np.where(dfCALC['Side'] == \"R\",Angle2 + dfCALC.AngDifSOP,\n",
    "                   np.where(dfCALC['Side'] == \"L\",Angle2 + dfCALC.Angle1 - dfCALC.AngDifSOP,\"\"))"
   ]
  },
  {
   "cell_type": "code",
   "execution_count": null,
   "metadata": {},
   "outputs": [],
   "source": [
    "# x and y offset \n",
    "Angle3 = pd.to_numeric(dfCALC.Angle3)\n",
    "dfCALC['CirXDif'] =  np.where(dfCALC['Side'] == \"R\",(Rad*(np.sin(np.radians(Angle3)))),\n",
    "                     np.where(dfCALC['Side'] == \"L\",(Rad*(np.sin(np.radians(Angle3))))*-1,\"\"))   \n",
    "dfCALC['CirYDif'] =  np.where(dfCALC['Side'] == \"R\",(Rad*(np.cos(np.radians(Angle3)))),\n",
    "                     np.where(dfCALC['Side'] == \"L\",(Rad*(np.cos(np.radians(Angle3))))*-1,\"\"))"
   ]
  },
  {
   "cell_type": "code",
   "execution_count": null,
   "metadata": {
    "scrolled": true
   },
   "outputs": [],
   "source": [
    "#Caclculate eastings and northings for points on the curve \n",
    "E = pd.to_numeric(dfCALC.East_CP)\n",
    "N = pd.to_numeric(dfCALC.North_CP)\n",
    "X = pd.to_numeric(dfCALC.CirXDif)\n",
    "Y = pd.to_numeric(dfCALC.CirYDif)\n",
    "\n",
    "dfCALC['CirEast'] = np.where(dfCALC['Side'] == \"R\", E + X,\n",
    "                    np.where(dfCALC['Side'] == \"L\", E + X,\"\"))\n",
    "dfCALC['CirNorth'] = np.where(dfCALC['Side'] == \"R\", N + Y,\n",
    "                     np.where(dfCALC['Side'] == \"L\", N + Y,\"\"))"
   ]
  },
  {
   "cell_type": "code",
   "execution_count": null,
   "metadata": {
    "scrolled": true
   },
   "outputs": [],
   "source": [
    "#final eastings and northings\n",
    "East_A1 = pd.to_numeric(dfCALC['East_A'])\n",
    "ch_EastDif1 = pd.to_numeric(dfCALC['ch_EastDif'])\n",
    "Eastings = np.where(dfCALC['CirEast'] == \"\",ch_EastDif1 + East_A1, dfCALC['CirEast'] )\n",
    "Eastings = pd.to_numeric(Eastings)\n",
    "Eastings = np.round(Eastings, decimals=2)\n",
    "\n",
    "North_A1 = pd.to_numeric(dfCALC['North_A'])\n",
    "ch_NorthDif1 = pd.to_numeric(dfCALC['ch_NorthDif'])\n",
    "Northings = np.where(dfCALC['CirNorth'] == \"\",ch_NorthDif1 + North_A1, dfCALC['CirNorth'] )\n",
    "Northings = pd.to_numeric(Northings)\n",
    "Northings = np.round(Northings, decimals=2)\n",
    "\n",
    "dfCALC.insert(5,'Eastings',Eastings,True)\n",
    "dfCALC.insert(6,'Northings',Northings,True)"
   ]
  },
  {
   "cell_type": "code",
   "execution_count": null,
   "metadata": {},
   "outputs": [],
   "source": [
    "#Settlement Module\n",
    "\n",
    "# calculation for settlement based on defined contour SQRT(-1*(2*i^2)*LN(contour/SvMax))\n",
    "# incline = np.degrees(np.arctan(dfCALC.ELVDif/dfCALC.HorDif))\n",
    "# distance from SOP *(SIN(RADIANS(incline)))\n",
    "#Z0 = dfCALC.GL - dfCALC.tunnel_axis\n",
    "Elevation = dfCALC.Elev_A + (dfCALC.ch_DistSOP * (np.sin(np.radians(np.degrees(np.arctan(dfCALC.ELVDif/dfCALC.HorDif))))))\n",
    "Elevation = pd.to_numeric(Elevation)\n",
    "Elevation = np.round(Elevation, decimals=2)\n",
    "\n",
    "Z0 = dfCALC.GL - Elevation\n",
    "i = abs(Z0) * dfCALC.K\n",
    "\n",
    "#SvMax +(Vl*PI()*(Dia/2)^2)/(i*SQRT(2*PI()))\n",
    "SvMax = (abs(dfCALC.VL*np.pi)*((dfCALC.Dia/2)**2))/(i*np.sqrt(2*np.pi))\n",
    "\n",
    "dfCALC.insert(7,'Elevation',Elevation,True)\n",
    "dfCALC.insert(8,'Z0',Z0,True)\n",
    "dfCALC.insert(9,'i',i,True)\n",
    "dfCALC.insert(10,'SvMax',SvMax,True)\n"
   ]
  },
  {
   "cell_type": "code",
   "execution_count": null,
   "metadata": {},
   "outputs": [],
   "source": [
    "#SQRT(-1*(2*i^2)*LN(contour/SvMax))\n",
    "SetA = np.sqrt(-1*(2*i**2)*np.log(0.001/SvMax))\n",
    "SetB = np.sqrt(-1*(2*i**2)*np.log(0.01/SvMax))\n",
    "#eastings+/-(SIN(RADIANS(bearing+90))*offse)\n",
    "dfCALC['SetAEP'] = pd.to_numeric(dfCALC.Eastings)+((np.sin(np.radians(pd.to_numeric(dfCALC.Bearing)+90)))*SetA)\n",
    "dfCALC['SetANP'] = pd.to_numeric(dfCALC.Northings)+((np.cos(np.radians(pd.to_numeric(dfCALC.Bearing)+90)))*SetA)\n",
    "dfCALC['SetAEN'] = pd.to_numeric(dfCALC.Eastings)-((np.sin(np.radians(pd.to_numeric(dfCALC.Bearing)+90)))*SetA)\n",
    "dfCALC['SetANN'] = pd.to_numeric(dfCALC.Northings)-((np.cos(np.radians(pd.to_numeric(dfCALC.Bearing)+90)))*SetA)\n",
    "#northings+/-(cos(RADIANS(bearing+90))*offse)\n",
    "dfCALC['SetBEP'] = pd.to_numeric(dfCALC.Eastings)+((np.sin(np.radians(pd.to_numeric(dfCALC.Bearing)+90)))*SetB)\n",
    "dfCALC['SetBNP'] = pd.to_numeric(dfCALC.Northings)+((np.cos(np.radians(pd.to_numeric(dfCALC.Bearing)+90)))*SetB)\n",
    "dfCALC['SetBEN'] = pd.to_numeric(dfCALC.Eastings)-((np.sin(np.radians(pd.to_numeric(dfCALC.Bearing)+90)))*SetB)\n",
    "dfCALC['SetBNN'] = pd.to_numeric(dfCALC.Northings)-((np.cos(np.radians(pd.to_numeric(dfCALC.Bearing)+90)))*SetB)\n",
    "\n",
    "#NOT SURE this works in all cases (+/-90 deg but wont work is goes into negatove or above 360)"
   ]
  },
  {
   "cell_type": "code",
   "execution_count": null,
   "metadata": {},
   "outputs": [],
   "source": [
    "#tunnel alignment\n",
    "E1 = dfCALC.Eastings\n",
    "N1 = dfCALC.Northings\n",
    "plt.plot(E1, N1, label = \"tunnel\")\n",
    "# 1mm\n",
    "x1 = dfCALC.SetAEP\n",
    "y1 = dfCALC.SetANP\n",
    "plt.plot(x1, y1, label = \"1mm\")\n",
    "x01 = dfCALC.SetAEN\n",
    "y01 = dfCALC.SetANN\n",
    "plt.plot(x01, y01, label = \"1mm\")\n",
    "# 10mm\n",
    "x2 = dfCALC.SetBEP\n",
    "y2 = dfCALC.SetBNP\n",
    "plt.plot(x2, y2, label = \"10mm\")\n",
    "x02 = dfCALC.SetBEN\n",
    "y02 = dfCALC.SetBNN\n",
    "plt.plot(x02, y02, label = \"10mm\")\n",
    "\n",
    "# plotting the line 2 points \n",
    "plt.xlabel('x - axis')\n",
    "# Set the y axis label of the current axis.\n",
    "plt.ylabel('y - axis')\n",
    "# Set a title of the current axes.\n",
    "plt.title('Settlement')\n",
    "# show a legend on the plot\n",
    "plt.legend()\n",
    "# Display a figure.\n",
    "plt.show()"
   ]
  },
  {
   "cell_type": "code",
   "execution_count": null,
   "metadata": {},
   "outputs": [],
   "source": [
    "# NEXT STEPS\n",
    "#1. create new dataframe df2DEQUA from dfCALC to include, the purpose of the data frame is to apply equations\n",
    "#   to the geometry from dfCALC. Initial calculatiosn will be for settlement  \n",
    "#2. create html input page for Geometry table, this should provide a preview of the imported geomtry and plot of \n",
    "#   geometry file as a graph. Should allow for plotting of size of elements (tunnel radius, pile diameter etc)\n",
    "#3. Select co-ordinate system, and calculation and then plot in google etc\n",
    "#4. Allow for the import of multiple structural elements \n",
    "#5. Create a 3D Numpy array to apply calculations in 3D\n",
    "#6. if applicatle allow combining of 3D calcs from multiple elements (settlement)\n",
    "#7. allow output of 2D slices \n",
    "#8. create import of assets into a GIS style system "
   ]
  },
  {
   "cell_type": "code",
   "execution_count": null,
   "metadata": {},
   "outputs": [],
   "source": [
    "# create numpy 3d array, each cell will need to calulcate the settlement due to element \n",
    "# check proximity to coord and calculate of bearing is 90deg to cell, how to deal with curves! # create array where values are bearing, inclination, ch etc "
   ]
  },
  {
   "cell_type": "code",
   "execution_count": null,
   "metadata": {},
   "outputs": [],
   "source": [
    "#buffer around tunnel \n",
    "Buff = 50"
   ]
  },
  {
   "cell_type": "code",
   "execution_count": null,
   "metadata": {},
   "outputs": [],
   "source": [
    "#define size of numpy array (round coords to 2 decimal places (mm) and convert to mm)\n",
    "XMax = (np.round(np.max(dfCALC.Eastings) - np.min(dfCALC.Eastings), decimals=2) + (2*Buff)) * 100\n",
    "YMax = (np.round(np.max(dfCALC.Northings) - np.min(dfCALC.Northings), decimals=2) + (2*Buff)) *100\n",
    "ZMax = (np.round(np.max(dfCALC.GL) - np.min(dfCALC.Elevation), decimals=2) + Buff) * 100\n",
    "XMax"
   ]
  },
  {
   "cell_type": "code",
   "execution_count": null,
   "metadata": {},
   "outputs": [],
   "source": [
    "#xyz index location for dfCALC dataframe\n",
    "dfCALC['XIndex'] = ((dfCALC.Eastings) - np.min(dfCALC.Eastings) + Buff) * 100\n",
    "dfCALC['YIndex'] = ((dfCALC.Northings) - np.min(dfCALC.Northings) + Buff) * 100\n",
    "dfCALC['ZIndex'] = ((dfCALC.Elevation) - np.min(dfCALC.Elevation) + Buff) * 100\n",
    "\n",
    "dfCALC.to_csv('CALC.csv')"
   ]
  },
  {
   "cell_type": "code",
   "execution_count": null,
   "metadata": {},
   "outputs": [],
   "source": []
  },
  {
   "cell_type": "code",
   "execution_count": null,
   "metadata": {},
   "outputs": [],
   "source": []
  }
 ],
 "metadata": {
  "interpreter": {
   "hash": "26f673b05062b1f1b1eb4979bdca8ed6279fe38854ee9d2219d5eaea17e0ff3a"
  },
  "kernelspec": {
   "display_name": "Python 3.9.7 64-bit ('env': venv)",
   "name": "python3"
  },
  "language_info": {
   "codemirror_mode": {
    "name": "ipython",
    "version": 3
   },
   "file_extension": ".py",
   "mimetype": "text/x-python",
   "name": "python",
   "nbconvert_exporter": "python",
   "pygments_lexer": "ipython3",
   "version": "3.9.8"
  }
 },
 "nbformat": 4,
 "nbformat_minor": 4
}
